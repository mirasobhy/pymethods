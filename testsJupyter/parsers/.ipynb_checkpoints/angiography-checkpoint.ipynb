{
 "cells": [
  {
   "cell_type": "markdown",
   "metadata": {},
   "source": [
    "# Parsing A Directory of Angiography Data"
   ]
  },
  {
   "cell_type": "markdown",
   "metadata": {},
   "source": [
    "Let us start by loading in the necessary modules"
   ]
  },
  {
   "cell_type": "code",
   "execution_count": 1,
   "metadata": {},
   "outputs": [],
   "source": [
    "import sys\n",
    "sys.path.append('../..')\n",
    "import pymethods as pma\n",
    "import pymethods.pyplot as plt\n",
    "import pathlib as pt\n",
    "import numpy as np\n",
    "import pyvista as pv"
   ]
  },
  {
   "cell_type": "markdown",
   "metadata": {},
   "source": [
    "Instantiate Folder object"
   ]
  },
  {
   "cell_type": "code",
   "execution_count": 2,
   "metadata": {},
   "outputs": [],
   "source": [
    "path_angio = pt.Path(r'../../testsReconstruction/test_1/angiography')\n",
    "folder_angio = pma.parse.angiography.Folder(path_angio)"
   ]
  },
  {
   "cell_type": "markdown",
   "metadata": {},
   "source": [
    "To view the files within the folder call the files object"
   ]
  },
  {
   "cell_type": "code",
   "execution_count": 3,
   "metadata": {},
   "outputs": [
    {
     "data": {
      "text/plain": [
       "[WindowsPath('../../testsReconstruction/test_1/angiography/attribCurve1.data'),\n",
       " WindowsPath('../../testsReconstruction/test_1/angiography/attribCurve2.data'),\n",
       " WindowsPath('../../testsReconstruction/test_1/angiography/BifAnalysisInfo.data'),\n",
       " WindowsPath('../../testsReconstruction/test_1/angiography/bifAttrib1Curve.data'),\n",
       " WindowsPath('../../testsReconstruction/test_1/angiography/bifAttrib2Curve.data')]"
      ]
     },
     "execution_count": 3,
     "metadata": {},
     "output_type": "execute_result"
    }
   ],
   "source": [
    "# the files property is a list showing the path to all the files contained within the angiography directory\n",
    "folder_angio.files[0:5]"
   ]
  },
  {
   "cell_type": "markdown",
   "metadata": {},
   "source": [
    "to isolate all the filenames we can use the filenames property"
   ]
  },
  {
   "cell_type": "code",
   "execution_count": 4,
   "metadata": {},
   "outputs": [
    {
     "data": {
      "text/plain": [
       "['attribCurve1.data',\n",
       " 'attribCurve2.data',\n",
       " 'BifAnalysisInfo.data',\n",
       " 'bifAttrib1Curve.data',\n",
       " 'bifAttrib2Curve.data']"
      ]
     },
     "execution_count": 4,
     "metadata": {},
     "output_type": "execute_result"
    }
   ],
   "source": [
    "folder_angio.filenames[0:5]"
   ]
  },
  {
   "cell_type": "markdown",
   "metadata": {},
   "source": [
    "For key files we can generate Data objects which have parsed the data files in the angiography folder."
   ]
  },
  {
   "cell_type": "code",
   "execution_count": 5,
   "metadata": {},
   "outputs": [
    {
     "name": "stdout",
     "output_type": "stream",
     "text": [
      "<pymethods.parse.angiography.AngiographyData.Data object at 0x0000026460CAC508>\n",
      "<pymethods.parse.angiography.AngiographyData.Data object at 0x0000026460CAC608>\n",
      "<pymethods.parse.angiography.AngiographyData.Data object at 0x0000026460CAC688>\n",
      "<pymethods.parse.angiography.AngiographyData.Data object at 0x0000026460CAC1C8>\n",
      "<pymethods.parse.angiography.AngiographyData.Data object at 0x0000026460CAC608>\n",
      "<pymethods.parse.angiography.AngiographyData.Data object at 0x0000026432274408>\n",
      "<pymethods.parse.angiography.AngiographyData.Data object at 0x0000026460CB9188>\n"
     ]
    }
   ],
   "source": [
    "print(folder_angio.bifCenterline1)\n",
    "print(folder_angio.bifCenterline2)\n",
    "print(folder_angio.centerline1)\n",
    "print(folder_angio.centerline2)\n",
    "print(folder_angio.BifCoreEllipseSetellipseSet)\n",
    "print(folder_angio.CrossSectionEllipseSet1)\n",
    "print(folder_angio.CrossSectionEllipseSet2)"
   ]
  },
  {
   "cell_type": "markdown",
   "metadata": {},
   "source": [
    "## Data Objects"
   ]
  },
  {
   "cell_type": "markdown",
   "metadata": {},
   "source": [
    "From a Data object we can view the original file path by calling the \"file_path\" property"
   ]
  },
  {
   "cell_type": "code",
   "execution_count": 6,
   "metadata": {},
   "outputs": [
    {
     "name": "stdout",
     "output_type": "stream",
     "text": [
      "..\\..\\testsReconstruction\\test_1\\angiography\\bifCenterline1.data\n",
      "..\\..\\testsReconstruction\\test_1\\angiography\\bifCenterline2.data\n",
      "..\\..\\testsReconstruction\\test_1\\angiography\\centerline1.data\n",
      "..\\..\\testsReconstruction\\test_1\\angiography\\centerline1.data\n",
      "..\\..\\testsReconstruction\\test_1\\angiography\\BifCoreEllipseSetellipseSet.data\n",
      "..\\..\\testsReconstruction\\test_1\\angiography\\CrossSectionEllipseSet1.data\n",
      "..\\..\\testsReconstruction\\test_1\\angiography\\CrossSectionEllipseSet2.data\n"
     ]
    }
   ],
   "source": [
    "print(folder_angio.bifCenterline1.file_path)\n",
    "print(folder_angio.bifCenterline2.file_path)\n",
    "print(folder_angio.centerline1.file_path)\n",
    "print(folder_angio.centerline1.file_path)\n",
    "print(folder_angio.BifCoreEllipseSetellipseSet.file_path)\n",
    "print(folder_angio.CrossSectionEllipseSet1.file_path)\n",
    "print(folder_angio.CrossSectionEllipseSet2.file_path)"
   ]
  },
  {
   "cell_type": "markdown",
   "metadata": {},
   "source": [
    "There a multiple data structure types within the angiography folder, we can view which class our object is using the data_class property"
   ]
  },
  {
   "cell_type": "code",
   "execution_count": 7,
   "metadata": {},
   "outputs": [
    {
     "name": "stdout",
     "output_type": "stream",
     "text": [
      "LkebCurve\n",
      "LkebCurve\n",
      "LkebCurve\n",
      "LkebCurve\n",
      "LkebCurveSet\n",
      "LkebCurveSet\n",
      "LkebCurveSet\n"
     ]
    }
   ],
   "source": [
    "print(folder_angio.bifCenterline1.data_class)\n",
    "print(folder_angio.bifCenterline2.data_class)\n",
    "print(folder_angio.centerline1.data_class)\n",
    "print(folder_angio.centerline1.data_class)\n",
    "print(folder_angio.BifCoreEllipseSetellipseSet.data_class)\n",
    "print(folder_angio.CrossSectionEllipseSet1.data_class)\n",
    "print(folder_angio.CrossSectionEllipseSet2.data_class)"
   ]
  },
  {
   "cell_type": "markdown",
   "metadata": {},
   "source": [
    "We can directly view the data of our object with the data method"
   ]
  },
  {
   "cell_type": "code",
   "execution_count": 8,
   "metadata": {},
   "outputs": [
    {
     "name": "stdout",
     "output_type": "stream",
     "text": [
      "<class 'pymethods.arrays.Curve.Curve'>\n",
      "<class 'list'>\n"
     ]
    }
   ],
   "source": [
    "# NOTE __class__ is a property of an object indicating which class they come from\n",
    "print(folder_angio.centerline1.data.__class__)\n",
    "print(folder_angio.BifCoreEllipseSetellipseSet.data.__class__)"
   ]
  },
  {
   "cell_type": "markdown",
   "metadata": {},
   "source": [
    "# LkebCurve"
   ]
  },
  {
   "cell_type": "markdown",
   "metadata": {},
   "source": [
    "An LkebCurve is a singular curve, and is normally a centerline. We have parsed the LkebCurve data into a Curve object. These objects contain methods to conveniently plot and visualize. We show how to plot a 3-dimensional scatter plot of varios degrees of opacity (alpha=?) and color (color=?). The ensure that the grid spacing is \"almost\" equal we apply the pma.pyplot.equal_aspect_3d() method, and finally we run the pma.pyplot.show() function to show the figure in the notebook."
   ]
  },
  {
   "cell_type": "markdown",
   "metadata": {},
   "source": [
    "To view interactive widgets install https://github.com/matplotlib/jupyter-matplotlib"
   ]
  },
  {
   "cell_type": "code",
   "execution_count": 9,
   "metadata": {},
   "outputs": [],
   "source": [
    "%matplotlib widget"
   ]
  },
  {
   "cell_type": "code",
   "execution_count": 10,
   "metadata": {},
   "outputs": [
    {
     "data": {
      "application/vnd.jupyter.widget-view+json": {
       "model_id": "cdf6dbd8ae8446bf9c34e35778cf68af",
       "version_major": 2,
       "version_minor": 0
      },
      "text/plain": [
       "Canvas(toolbar=Toolbar(toolitems=[('Home', 'Reset original view', 'home', 'home'), ('Back', 'Back to previous …"
      ]
     },
     "metadata": {},
     "output_type": "display_data"
    }
   ],
   "source": [
    "folder_angio.bifCenterline1.data.scatter3d(color='red', alpha=1)\n",
    "folder_angio.bifCenterline2.data.scatter3d(color='pink', alpha=0.25)\n",
    "folder_angio.centerline1.data.scatter3d(color='green', alpha=0.5)\n",
    "folder_angio.centerline2.data.scatter3d(alpha=1)\n",
    "pma.pyplot.equal_aspect_3d()\n",
    "pma.pyplot.show()"
   ]
  },
  {
   "cell_type": "markdown",
   "metadata": {},
   "source": [
    "We can plot lines by using the plo3d method"
   ]
  },
  {
   "cell_type": "code",
   "execution_count": 11,
   "metadata": {},
   "outputs": [
    {
     "data": {
      "application/vnd.jupyter.widget-view+json": {
       "model_id": "8965189dc5b34df394960a24cc80f3c8",
       "version_major": 2,
       "version_minor": 0
      },
      "text/plain": [
       "Canvas(toolbar=Toolbar(toolitems=[('Home', 'Reset original view', 'home', 'home'), ('Back', 'Back to previous …"
      ]
     },
     "metadata": {},
     "output_type": "display_data"
    }
   ],
   "source": [
    "pma.pyplot.figure_3d()\n",
    "folder_angio.bifCenterline1.data.plot3d(color='red', alpha=1)\n",
    "folder_angio.bifCenterline2.data.plot3d(alpha=0.25)\n",
    "folder_angio.centerline1.data.plot3d(color='green', alpha=0.5)\n",
    "folder_angio.centerline2.data.plot3d(alpha=1)\n",
    "pma.pyplot.equal_aspect_3d()\n",
    "pma.pyplot.show()"
   ]
  },
  {
   "cell_type": "markdown",
   "metadata": {},
   "source": [
    "We can interpolate extracted centerlines by calling the centerlines with some kind of linspace between 0 and 1. To truncated th centerline just input a linspace with a limit < 1. The interpolation is perfomed using B-Splines generated from the scipy library https://docs.scipy.org/doc/scipy/reference/generated/scipy.interpolate.splrep.html"
   ]
  },
  {
   "cell_type": "code",
   "execution_count": 12,
   "metadata": {},
   "outputs": [
    {
     "data": {
      "application/vnd.jupyter.widget-view+json": {
       "model_id": "e6ad6a0003934b20a6bc8530e27b7cdd",
       "version_major": 2,
       "version_minor": 0
      },
      "text/plain": [
       "Canvas(toolbar=Toolbar(toolitems=[('Home', 'Reset original view', 'home', 'home'), ('Back', 'Back to previous …"
      ]
     },
     "metadata": {},
     "output_type": "display_data"
    }
   ],
   "source": [
    "plt.figure_3d()\n",
    "centerline = folder_angio.centerline1.data\n",
    "interp_centerline = centerline(np.linspace(0, 1, 20))\n",
    "truncated_centerline = centerline(np.linspace(0, 0.5, 20))\n",
    "centerline.plot3d(alpha=0.25)\n",
    "interp_centerline.scatter3d(linewidth=5)\n",
    "truncated_centerline.plot3d('r', linewidth=8)\n",
    "pma.pyplot.equal_aspect_3d()\n",
    "pma.pyplot.show()"
   ]
  },
  {
   "cell_type": "markdown",
   "metadata": {},
   "source": [
    "We can also show the transport frames along the centerline"
   ]
  },
  {
   "cell_type": "code",
   "execution_count": 13,
   "metadata": {},
   "outputs": [
    {
     "data": {
      "application/vnd.jupyter.widget-view+json": {
       "model_id": "92f0bfc073cb4888b722f6cca4f2a427",
       "version_major": 2,
       "version_minor": 0
      },
      "text/plain": [
       "Canvas(toolbar=Toolbar(toolitems=[('Home', 'Reset original view', 'home', 'home'), ('Back', 'Back to previous …"
      ]
     },
     "metadata": {},
     "output_type": "display_data"
    }
   ],
   "source": [
    "plt.figure_3d()\n",
    "centerline = folder_angio.bifCenterline1.data\n",
    "transport_frames = centerline.transport_frames()\n",
    "\n",
    "# NOTE: the ::2 notation means to skip eveery second basis\n",
    "\n",
    "for frame, center in zip(transport_frames[::2,:,:], centerline.T[::2,:]):\n",
    "    pma.arrays.Basis(frame).quiver3d(origin=center)\n",
    "centerline.plot3d()\n",
    "pma.pyplot.equal_aspect_3d()\n",
    "pma.pyplot.show()"
   ]
  },
  {
   "cell_type": "markdown",
   "metadata": {},
   "source": [
    "# LkebCurveSet"
   ]
  },
  {
   "cell_type": "markdown",
   "metadata": {},
   "source": [
    "An LkebCurveSet is a set of curves, and is normally a set of cross sections"
   ]
  },
  {
   "cell_type": "markdown",
   "metadata": {},
   "source": [
    "The cross sectiondatasets are lists of FlatContour Objects"
   ]
  },
  {
   "cell_type": "code",
   "execution_count": 14,
   "metadata": {},
   "outputs": [
    {
     "name": "stdout",
     "output_type": "stream",
     "text": [
      "<class 'list'>\n",
      "<class 'pymethods.arrays.Curve.FlatContour'>\n"
     ]
    }
   ],
   "source": [
    "cross_sections = folder_angio.BifCoreEllipseSetellipseSet.data\n",
    "print(cross_sections.__class__)\n",
    "print(cross_sections[0].__class__)"
   ]
  },
  {
   "cell_type": "markdown",
   "metadata": {},
   "source": [
    "We can plot the cross sections by indexing an individual cross section from an ellipse and calling the convenience functions"
   ]
  },
  {
   "cell_type": "code",
   "execution_count": 15,
   "metadata": {},
   "outputs": [
    {
     "data": {
      "application/vnd.jupyter.widget-view+json": {
       "model_id": "14738bb4bfbb431c876a50299dd75aee",
       "version_major": 2,
       "version_minor": 0
      },
      "text/plain": [
       "Canvas(toolbar=Toolbar(toolitems=[('Home', 'Reset original view', 'home', 'home'), ('Back', 'Back to previous …"
      ]
     },
     "metadata": {},
     "output_type": "display_data"
    }
   ],
   "source": [
    "plt.figure_3d()\n",
    "cross_sections[0].scatter3d()\n",
    "cross_sections[0].plot3d()\n",
    "pma.pyplot.show()"
   ]
  },
  {
   "cell_type": "markdown",
   "metadata": {},
   "source": [
    "Like the centerlines they can be interpolated and truncated"
   ]
  },
  {
   "cell_type": "code",
   "execution_count": 16,
   "metadata": {},
   "outputs": [
    {
     "data": {
      "application/vnd.jupyter.widget-view+json": {
       "model_id": "9e4f0163c89e438e8349f281b48d7def",
       "version_major": 2,
       "version_minor": 0
      },
      "text/plain": [
       "Canvas(toolbar=Toolbar(toolitems=[('Home', 'Reset original view', 'home', 'home'), ('Back', 'Back to previous …"
      ]
     },
     "metadata": {},
     "output_type": "display_data"
    }
   ],
   "source": [
    "plt.figure_3d()\n",
    "# start of section \n",
    "cross_sections[0][:,0].scatter3d(color='green')\n",
    "# interpolated curve\n",
    "cross_sections[0](np.linspace(0,1,100)).plot3d()\n",
    "# as we do not want to close the curve we must set the close option to False\n",
    "cross_sections[0](np.linspace(0,0.5,100), close=False)[:,0:-1].plot3d()\n",
    "# end of section \n",
    "cross_sections[0](np.linspace(0,0.5,100), close=False)[:,-1].scatter3d(color='red')\n",
    "pma.pyplot.show()"
   ]
  },
  {
   "cell_type": "markdown",
   "metadata": {},
   "source": [
    "We can extract information about our contour such as the centroid and basis"
   ]
  },
  {
   "cell_type": "code",
   "execution_count": 17,
   "metadata": {},
   "outputs": [
    {
     "data": {
      "application/vnd.jupyter.widget-view+json": {
       "model_id": "ae39747a2eaf4dba8af0901e369ef079",
       "version_major": 2,
       "version_minor": 0
      },
      "text/plain": [
       "Canvas(toolbar=Toolbar(toolitems=[('Home', 'Reset original view', 'home', 'home'), ('Back', 'Back to previous …"
      ]
     },
     "metadata": {},
     "output_type": "display_data"
    }
   ],
   "source": [
    "plt.figure_3d()\n",
    "contour = folder_angio.BifCoreEllipseSetellipseSet.data[0]\n",
    "\n",
    "centroid = contour.centroid\n",
    "\n",
    "basis = contour.get_basis()\n",
    "normal = contour.get_normal()\n",
    "\n",
    "contour.plot3d()\n",
    "basis.quiver3d(origin=centroid)\n",
    "normal.quiver3d(origin=centroid, color='red')\n",
    "centroid.scatter3d()\n",
    "pma.pyplot.equal_aspect_3d()\n",
    "pma.pyplot.show()"
   ]
  },
  {
   "cell_type": "markdown",
   "metadata": {},
   "source": [
    "# Plotting the Tree"
   ]
  },
  {
   "cell_type": "markdown",
   "metadata": {},
   "source": [
    "We can now also plot the extracted portions of the coronary tree"
   ]
  },
  {
   "cell_type": "code",
   "execution_count": 18,
   "metadata": {},
   "outputs": [
    {
     "data": {
      "application/vnd.jupyter.widget-view+json": {
       "model_id": "3e5cad63399543d286af2f5fff36d607",
       "version_major": 2,
       "version_minor": 0
      },
      "text/plain": [
       "Canvas(toolbar=Toolbar(toolitems=[('Home', 'Reset original view', 'home', 'home'), ('Back', 'Back to previous …"
      ]
     },
     "metadata": {},
     "output_type": "display_data"
    }
   ],
   "source": [
    "plt.figure_3d()\n",
    "folder_angio.bifCenterline1.data.plot3d()\n",
    "folder_angio.bifCenterline2.data.plot3d()\n",
    "for section in folder_angio.CrossSectionEllipseSet1.data:\n",
    "    section.plot3d(color='r', linewidth=0.5)\n",
    "for section in folder_angio.CrossSectionEllipseSet2.data:\n",
    "    section.plot3d(color='g', linewidth=0.5)\n",
    "plt.equal_aspect_3d()\n",
    "plt.show()"
   ]
  },
  {
   "cell_type": "markdown",
   "metadata": {},
   "source": [
    "We observe that the surfaces not not meshable just yet"
   ]
  },
  {
   "cell_type": "markdown",
   "metadata": {},
   "source": [
    "# Smoothing the surfaces"
   ]
  },
  {
   "cell_type": "markdown",
   "metadata": {},
   "source": [
    "As the data is not smooth it will be difficult to generate a surface, thus the easiest way to generate the surface is to reinterpolate our surfaces and smooth"
   ]
  },
  {
   "cell_type": "code",
   "execution_count": 19,
   "metadata": {},
   "outputs": [],
   "source": [
    "centerline = folder_angio.bifCenterline1.data\n",
    "contours = folder_angio.CrossSectionEllipseSet1.data"
   ]
  },
  {
   "cell_type": "code",
   "execution_count": 20,
   "metadata": {},
   "outputs": [
    {
     "data": {
      "application/vnd.jupyter.widget-view+json": {
       "model_id": "0a807efdb51b4f259f9b6651859f95dd",
       "version_major": 2,
       "version_minor": 0
      },
      "text/plain": [
       "Canvas(toolbar=Toolbar(toolitems=[('Home', 'Reset original view', 'home', 'home'), ('Back', 'Back to previous …"
      ]
     },
     "metadata": {},
     "output_type": "display_data"
    }
   ],
   "source": [
    "plt.figure_3d()\n",
    "centerline.plot3d()\n",
    "[contour.plot3d('b', alpha=0.4) for contour in contours]\n",
    "plt.equal_aspect_3d()\n",
    "plt.show()"
   ]
  },
  {
   "cell_type": "markdown",
   "metadata": {},
   "source": [
    "Let us first create a surface object, this object has filter, smoother and other methods which we can use. We can also use the inbuilt plotting functions to avoid having to plot using a for loop"
   ]
  },
  {
   "cell_type": "code",
   "execution_count": 21,
   "metadata": {},
   "outputs": [
    {
     "data": {
      "application/vnd.jupyter.widget-view+json": {
       "model_id": "ee9cbb3195a74dc3bc8ad92d2b28f0db",
       "version_major": 2,
       "version_minor": 0
      },
      "text/plain": [
       "Canvas(toolbar=Toolbar(toolitems=[('Home', 'Reset original view', 'home', 'home'), ('Back', 'Back to previous …"
      ]
     },
     "metadata": {},
     "output_type": "display_data"
    }
   ],
   "source": [
    "artery_surface = pma.arrays.structured.CylindricalSurface.from_contours(contours)\n",
    "plt.figure_3d()\n",
    "artery_surface.plot3d()\n",
    "plt.equal_aspect_3d()\n",
    "plt.show()"
   ]
  },
  {
   "cell_type": "markdown",
   "metadata": {},
   "source": [
    "Observe that we need to reparameterize the curve in order to maintain 'flat' contours. "
   ]
  },
  {
   "cell_type": "code",
   "execution_count": 22,
   "metadata": {},
   "outputs": [
    {
     "data": {
      "application/vnd.jupyter.widget-view+json": {
       "model_id": "b80a11c8a20f4d6b879335fa48ce824f",
       "version_major": 2,
       "version_minor": 0
      },
      "text/plain": [
       "Canvas(toolbar=Toolbar(toolitems=[('Home', 'Reset original view', 'home', 'home'), ('Back', 'Back to previous …"
      ]
     },
     "metadata": {},
     "output_type": "display_data"
    }
   ],
   "source": [
    "plt.figure_3d()\n",
    "\n",
    "interp_a = artery_surface.interpolate_long(200)\n",
    "interp_b = artery_surface.interpolate_long(200, reparam_curve=centerline.s_frac)\n",
    "\n",
    "interp_a.plot3d(color='red')\n",
    "interp_b.plot3d()\n",
    "plt.equal_aspect_3d_centered(interp_b.mean(-1).mean(-1))\n",
    "plt.show()"
   ]
  },
  {
   "cell_type": "code",
   "execution_count": 23,
   "metadata": {},
   "outputs": [],
   "source": [
    "p = pv.BackgroundPlotter()\n",
    "p.add_mesh(interp_b.to_vtk())\n",
    "p.show()"
   ]
  },
  {
   "cell_type": "markdown",
   "metadata": {},
   "source": [
    "Observe that the mesh generated is still not very good. Thus we must apply filters"
   ]
  },
  {
   "cell_type": "code",
   "execution_count": 24,
   "metadata": {},
   "outputs": [],
   "source": [
    "interp_b = interp_b.filter(window_size=15)\n",
    "                           \n",
    "p = pv.BackgroundPlotter()\n",
    "p.add_mesh(interp_b.to_vtk())\n",
    "p.show()\n",
    "\n",
    "# significantly better. interpolate around the contour to close the surface\n",
    "\n",
    "interp_b = interp_b.interpolate_contours(100)\n",
    "\n",
    "p = pv.BackgroundPlotter()\n",
    "p.add_mesh(interp_b.to_vtk())\n",
    "p.show()"
   ]
  },
  {
   "cell_type": "markdown",
   "metadata": {},
   "source": [
    "# Cutting Centerlines"
   ]
  },
  {
   "cell_type": "markdown",
   "metadata": {},
   "source": [
    "Let us say we wish to cut centerline at a fixed distance perpendicular to another centerline. We will need to solve an optimiztion problem which searches for the correct perpendicular distance"
   ]
  },
  {
   "cell_type": "code",
   "execution_count": 25,
   "metadata": {},
   "outputs": [
    {
     "data": {
      "application/vnd.jupyter.widget-view+json": {
       "model_id": "4ef95a5231e14044aebc3cfe56b8486f",
       "version_major": 2,
       "version_minor": 0
      },
      "text/plain": [
       "Canvas(toolbar=Toolbar(toolitems=[('Home', 'Reset original view', 'home', 'home'), ('Back', 'Back to previous …"
      ]
     },
     "metadata": {},
     "output_type": "display_data"
    }
   ],
   "source": [
    "plt.figure_3d()\n",
    "\n",
    "centerline1 = folder_angio.bifCenterline1.data\n",
    "centerline2 = folder_angio.bifCenterline2.data\n",
    "\n",
    "point_pairs = centerline1.findPointPairsAtPerpendicularDistance(centerline2, distance=0.01, resolution=0.001)\n",
    "\n",
    "p1 = point_pairs['on_main']\n",
    "p2 = point_pairs['on_input']\n",
    "\n",
    "centerline1.plot3d('r')\n",
    "centerline2.plot3d('b')\n",
    "p1.scatter3d(color='red')\n",
    "p2.scatter3d(color='blue')\n",
    "\n",
    "pma.arrays.Vectorspace(np.stack([p1, p2], -1)).plot3d()\n",
    "plt.equal_aspect_3d()\n",
    "plt.show()"
   ]
  },
  {
   "cell_type": "markdown",
   "metadata": {},
   "source": [
    "# Clipping the Bifurcation"
   ]
  },
  {
   "cell_type": "code",
   "execution_count": 26,
   "metadata": {},
   "outputs": [],
   "source": [
    "i_clip = np.argmin(np.linalg.norm(centerline2 - p2[:, None], axis=0))\n",
    "main_surface = pma.arrays.structured.CylindricalSurface.from_contours(folder_angio.CrossSectionEllipseSet1.data)\n",
    "bif_surface = pma.arrays.structured.CylindricalSurface.from_contours(folder_angio.CrossSectionEllipseSet2.data[i_clip:])"
   ]
  },
  {
   "cell_type": "code",
   "execution_count": 27,
   "metadata": {},
   "outputs": [
    {
     "data": {
      "application/vnd.jupyter.widget-view+json": {
       "model_id": "b8a6954ff336485a8b623ac3c244ac91",
       "version_major": 2,
       "version_minor": 0
      },
      "text/plain": [
       "Canvas(toolbar=Toolbar(toolitems=[('Home', 'Reset original view', 'home', 'home'), ('Back', 'Back to previous …"
      ]
     },
     "metadata": {},
     "output_type": "display_data"
    }
   ],
   "source": [
    "plt.figure_3d()\n",
    "main_surface.plot3d()\n",
    "bif_surface.plot3d(color='red')\n",
    "plt.equal_aspect_3d()\n",
    "plt.show()"
   ]
  },
  {
   "cell_type": "markdown",
   "metadata": {},
   "source": [
    "# Merging two Surfaces"
   ]
  },
  {
   "cell_type": "code",
   "execution_count": 28,
   "metadata": {},
   "outputs": [
    {
     "data": {
      "application/vnd.jupyter.widget-view+json": {
       "model_id": "f00bbb9a57a84e45951069d3f0383e58",
       "version_major": 2,
       "version_minor": 0
      },
      "text/plain": [
       "Canvas(toolbar=Toolbar(toolitems=[('Home', 'Reset original view', 'home', 'home'), ('Back', 'Back to previous …"
      ]
     },
     "metadata": {},
     "output_type": "display_data"
    }
   ],
   "source": [
    "main_surface = main_surface.interpolate_long(200, reparam_curve=centerline1.s_frac)\n",
    "main_surface = main_surface.filter(window_size=15)\n",
    "main_surface = main_surface.interpolate_contours(100)\n",
    "plt.figure_3d()\n",
    "main_surface.plot3d()\n",
    "plt.equal_aspect_3d()\n",
    "plt.show()"
   ]
  },
  {
   "cell_type": "code",
   "execution_count": 29,
   "metadata": {},
   "outputs": [
    {
     "data": {
      "application/vnd.jupyter.widget-view+json": {
       "model_id": "dd6e4130e06944f9be7d2b7e1f777032",
       "version_major": 2,
       "version_minor": 0
      },
      "text/plain": [
       "Canvas(toolbar=Toolbar(toolitems=[('Home', 'Reset original view', 'home', 'home'), ('Back', 'Back to previous …"
      ]
     },
     "metadata": {},
     "output_type": "display_data"
    }
   ],
   "source": [
    "plt.figure_3d()\n",
    "bif_surface = bif_surface.filter(window_size=15)\n",
    "bif_surface = bif_surface.interpolate_contours(100)\n",
    "bif_surface = bif_surface.interpolate_long(200)\n",
    "bif_surface = bif_surface.filter(window_size=15)\n",
    "bif_surface = bif_surface.interpolate_contours(100)\n",
    "\n",
    "bif_surface.plot3d()\n",
    "plt.equal_aspect_3d()\n",
    "plt.show()"
   ]
  },
  {
   "cell_type": "markdown",
   "metadata": {},
   "source": [
    "The meshes can now be exported and combined and meshed in an external program"
   ]
  },
  {
   "cell_type": "code",
   "execution_count": 30,
   "metadata": {},
   "outputs": [],
   "source": [
    "p = pv.BackgroundPlotter()\n",
    "main_vtk = main_surface.to_vtk()\n",
    "bif_vtk = bif_surface.to_vtk()\n",
    "p.add_mesh(main_vtk)\n",
    "p.add_mesh(bif_vtk)\n",
    "p.show()"
   ]
  },
  {
   "cell_type": "code",
   "execution_count": 31,
   "metadata": {},
   "outputs": [],
   "source": [
    "# unwrapping"
   ]
  },
  {
   "cell_type": "code",
   "execution_count": null,
   "metadata": {},
   "outputs": [],
   "source": []
  }
 ],
 "metadata": {
  "file_extension": ".py",
  "kernelspec": {
   "display_name": "Python 3.7.6 64-bit ('P3p7torch1p3': conda)",
   "language": "python",
   "name": "python37664bitp3p7torch1p3conda7e19d9a9ff6440c4be72ef74d5ec3552"
  },
  "language_info": {
   "codemirror_mode": {
    "name": "ipython",
    "version": 3
   },
   "file_extension": ".py",
   "mimetype": "text/x-python",
   "name": "python",
   "nbconvert_exporter": "python",
   "pygments_lexer": "ipython3",
   "version": "3.7.6"
  },
  "mimetype": "text/x-python",
  "name": "python",
  "npconvert_exporter": "python",
  "pygments_lexer": "ipython3",
  "version": 3
 },
 "nbformat": 4,
 "nbformat_minor": 4
}
