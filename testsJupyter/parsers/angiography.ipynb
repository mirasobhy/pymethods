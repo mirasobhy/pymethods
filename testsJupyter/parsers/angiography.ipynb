{
 "cells": [
  {
   "cell_type": "markdown",
   "execution_count": null,
   "metadata": {},
   "outputs": [],
   "source": [
    "# Parsing angiography data"
   ]
  },
  {
   "cell_type": "markdown",
   "execution_count": null,
   "metadata": {},
   "outputs": [],
   "source": [
    "Let us start by loading in the necessary modules"
   ]
  },
  {
   "cell_type": "code",
   "execution_count": 1,
   "metadata": {},
   "outputs": [],
   "source": [
    "import sys\n",
    "import pymethods as pma\n",
    "import pymethods.pyplot as plt\n",
    "import pathlib as pt\n",
    "import numpy as np"
   ]
  },
  {
   "cell_type": "markdown",
   "execution_count": null,
   "metadata": {},
   "outputs": [],
   "source": [
    "Now we can instantiate angiography Folder object"
   ]
  },
  {
   "cell_type": "code",
   "execution_count": 2,
   "metadata": {},
   "outputs": [],
   "source": [
    "\n",
    "path_angio = pt.Path(r'D:\\Github\\algorithmsAndStructures\\testsReconstruction\\test_1\\angiography')\n",
    "folder_angio = pma.parse.angiography.Folder(path_angio)"
   ]
  },
  {
   "cell_type": "markdown",
   "execution_count": null,
   "metadata": {},
   "outputs": [],
   "source": [
    "To view the files within the folder call the files object"
   ]
  },
  {
   "cell_type": "code",
   "execution_count": 3,
   "metadata": {},
   "outputs": [
    {
     "data": {
      "text/plain": "[WindowsPath('D:/Github/algorithmsAndStructures/testsReconstruction/test_1/angiography/attribCurve1.data'),\n WindowsPath('D:/Github/algorithmsAndStructures/testsReconstruction/test_1/angiography/attribCurve2.data'),\n WindowsPath('D:/Github/algorithmsAndStructures/testsReconstruction/test_1/angiography/BifAnalysisInfo.data'),\n WindowsPath('D:/Github/algorithmsAndStructures/testsReconstruction/test_1/angiography/bifAttrib1Curve.data'),\n WindowsPath('D:/Github/algorithmsAndStructures/testsReconstruction/test_1/angiography/bifAttrib2Curve.data')]"
     },
     "execution_count": 3,
     "metadata": {},
     "output_type": "execute_result"
    }
   ],
   "source": [
    "# the files property is a list showing the path to all the files contained within the angiography directory\n",
    "folder_angio.files[0:5]"
   ]
  },
  {
   "cell_type": "markdown",
   "execution_count": null,
   "metadata": {},
   "outputs": [],
   "source": [
    "to isolate all the filenames we can use the filenames property"
   ]
  },
  {
   "cell_type": "code",
   "execution_count": 4,
   "metadata": {},
   "outputs": [
    {
     "data": {
      "text/plain": "['attribCurve1.data',\n 'attribCurve2.data',\n 'BifAnalysisInfo.data',\n 'bifAttrib1Curve.data',\n 'bifAttrib2Curve.data']"
     },
     "execution_count": 4,
     "metadata": {},
     "output_type": "execute_result"
    }
   ],
   "source": [
    "folder_angio.filenames[0:5]"
   ]
  },
  {
   "cell_type": "markdown",
   "execution_count": null,
   "metadata": {},
   "outputs": [],
   "source": [
    "Let us look at the following centerline and bifurcation files, they are data instances which hold information about the angiography data and read them into python"
   ]
  },
  {
   "cell_type": "code",
   "execution_count": 5,
   "metadata": {},
   "outputs": [
    {
     "name": "stdout",
     "output_type": "stream",
     "text": "<pymethods.parse.angiography.AngiographyData.Data object at 0x000002E538803808>\n<pymethods.parse.angiography.AngiographyData.Data object at 0x000002E53880DE48>\n<pymethods.parse.angiography.AngiographyData.Data object at 0x000002E5388036C8>\n<pymethods.parse.angiography.AngiographyData.Data object at 0x000002E538803F88>\n"
    }
   ],
   "source": [
    "print(folder_angio.bifCenterline1)\n",
    "print(folder_angio.bifCenterline2)\n",
    "print(folder_angio.centerline1)\n",
    "print(folder_angio.centerline2)"
   ]
  },
  {
   "cell_type": "markdown",
   "execution_count": null,
   "metadata": {},
   "outputs": [],
   "source": [
    "## Plotting the extracted data"
   ]
  },
  {
   "cell_type": "code",
   "execution_count": 9,
   "metadata": {},
   "outputs": [],
   "source": [
    "# Install https://github.com/matplotlib/jupyter-matplotlib to run interactive widgets\n",
    "%matplotlib widget"
   ]
  },
  {
   "cell_type": "code",
   "execution_count": 8,
   "metadata": {},
   "outputs": [
    {
     "name": "stdout",
     "output_type": "stream",
     "text": "D:\\Github\\algorithmsAndStructures\\testsReconstruction\\test_1\\angiography\\bifCenterline1.data\nD:\\Github\\algorithmsAndStructures\\testsReconstruction\\test_1\\angiography\\bifCenterline2.data\nD:\\Github\\algorithmsAndStructures\\testsReconstruction\\test_1\\angiography\\centerline1.data\nD:\\Github\\algorithmsAndStructures\\testsReconstruction\\test_1\\angiography\\centerline1.data\n"
    }
   ],
   "source": [
    "print(folder_angio.bifCenterline1.file_path)\n",
    "print(folder_angio.bifCenterline2.file_path)\n",
    "print(folder_angio.centerline1.file_path)\n",
    "print(folder_angio.centerline1.file_path)"
   ]
  },
  {
   "cell_type": "code",
   "execution_count": 10,
   "metadata": {},
   "outputs": [
    {
     "data": {
      "application/vnd.jupyter.widget-view+json": {
       "model_id": "d2143b7a65b5414780b88c9c3609feeb",
       "version_major": 2,
       "version_minor": 0
      },
      "text/plain": "Canvas(toolbar=Toolbar(toolitems=[('Home', 'Reset original view', 'home', 'home'), ('Back', 'Back to previous …"
     },
     "metadata": {},
     "output_type": "display_data"
    }
   ],
   "source": [
    "folder_angio.bifCenterline1.data.scatter3d(color='red', alpha=1)\n",
    "folder_angio.bifCenterline2.data.scatter3d(alpha=0.25)\n",
    "folder_angio.centerline1.data.scatter3d(color='green', alpha=0.5)\n",
    "folder_angio.centerline2.data.scatter3d(alpha=1)\n",
    "pma.pyplot.equal_aspect_3d()\n",
    "pma.pyplot.show()"
   ]
  },
  {
   "cell_type": "markdown",
   "execution_count": null,
   "metadata": {},
   "outputs": [],
   "source": [
    "We can interpolate extracted centerlines by calling the centerlines with some kind of linspace between 0 and 1. To truncated th centerline just input a linspace with a limit < 1"
   ]
  },
  {
   "cell_type": "code",
   "execution_count": null,
   "metadata": {},
   "outputs": [],
   "source": [
    "plt.figure_3d()\n",
    "centerline = folder_angio.centerline1.data\n",
    "interp_centerline = centerline(np.linspace(0, 1, 20))\n",
    "truncated_centerline = centerline(np.linspace(0, 0.5, 20))\n",
    "centerline.scatter3d(alpha=0.25)\n",
    "interp_centerline.scatter3d(linewidth=5)\n",
    "truncated_centerline.plot3d('r', linewidth=8)\n",
    "pma.pyplot.equal_aspect_3d()\n",
    "pma.pyplot.show()"
   ]
  },
  {
   "cell_type": "markdown",
   "execution_count": null,
   "metadata": {},
   "outputs": [],
   "source": [
    "Cross Section Datasets"
   ]
  },
  {
   "cell_type": "code",
   "execution_count": null,
   "metadata": {},
   "outputs": [],
   "source": [
    "print(folder_angio.BifCoreEllipseSetellipseSet.file_path)\n",
    "print(folder_angio.CrossSectionEllipseSet1.file_path)\n",
    "print(folder_angio.CrossSectionEllipseSet2.file_path)"
   ]
  },
  {
   "cell_type": "markdown",
   "execution_count": null,
   "metadata": {},
   "outputs": [],
   "source": [
    "The cross sectiondatasets are lists of FlatContour Objects"
   ]
  },
  {
   "cell_type": "code",
   "execution_count": null,
   "metadata": {},
   "outputs": [],
   "source": [
    "cross_sections = folder_angio.BifCoreEllipseSetellipseSet.data\n",
    "print(cross_sections.__class__)\n",
    "print(cross_sections[0].__class__)"
   ]
  },
  {
   "cell_type": "code",
   "execution_count": null,
   "metadata": {},
   "outputs": [],
   "source": [
    "plt.figure_3d()\n",
    "cross_sections[0].scatter3d()\n",
    "pma.pyplot.show()"
   ]
  },
  {
   "cell_type": "markdown",
   "execution_count": null,
   "metadata": {},
   "outputs": [],
   "source": [
    "Like the centerlines they can be interpolated and truncated"
   ]
  },
  {
   "cell_type": "code",
   "execution_count": null,
   "metadata": {},
   "outputs": [],
   "source": [
    "plt.figure_3d()\n",
    "cross_sections[0][:,0].scatter3d()\n",
    "cross_sections[0](np.linspace(0,1,100)).scatter3d()\n",
    "cross_sections[0](np.linspace(0,0.5,100)).scatter3d()\n",
    "pma.pyplot.show()"
   ]
  },
  {
   "cell_type": "markdown",
   "execution_count": null,
   "metadata": {},
   "outputs": [],
   "source": [
    "We can generate and plot a basis at a different origin location using the following method"
   ]
  },
  {
   "cell_type": "code",
   "execution_count": null,
   "metadata": {},
   "outputs": [],
   "source": [
    "plt.figure_3d()\n",
    "pma.arrays.Basis(np.identity(3)).quiver3d(origin=[1,2,3])\n",
    "pma.pyplot.show()"
   ]
  },
  {
   "cell_type": "markdown",
   "execution_count": null,
   "metadata": {},
   "outputs": [],
   "source": [
    "We can extract the basis from our contour objects"
   ]
  },
  {
   "cell_type": "code",
   "execution_count": null,
   "metadata": {},
   "outputs": [],
   "source": [
    "plt.figure_3d()\n",
    "contour = folder_angio.BifCoreEllipseSetellipseSet.data[0]\n",
    "centroid = contour.centroid\n",
    "basis = contour.get_basis()\n",
    "normal = contour.get_normal()\n",
    "contour.plot3d('--')\n",
    "basis.quiver3d(origin=centroid)\n",
    "normal.quiver3d(origin=centroid, color='red')\n",
    "pma.pyplot.equal_aspect_3d()\n",
    "pma.pyplot.show()"
   ]
  },
  {
   "cell_type": "markdown",
   "execution_count": null,
   "metadata": {},
   "outputs": [],
   "source": [
    "We can show the transport frames  along our centerline in a similar fashion"
   ]
  },
  {
   "cell_type": "code",
   "execution_count": null,
   "metadata": {},
   "outputs": [],
   "source": [
    "plt.figure_3d()\n",
    "centerline = folder_angio.bifCenterline1.data\n",
    "transport_frames = centerline.transport_frames()\n",
    "for frame, center in zip(transport_frames, centerline.T):\n",
    "    pma.arrays.Basis(frame).quiver3d(origin=center)\n",
    "centerline.plot3d()\n",
    "pma.pyplot.equal_aspect_3d()\n",
    "pma.pyplot.show()"
   ]
  },
  {
   "cell_type": "markdown",
   "execution_count": null,
   "metadata": {},
   "outputs": [],
   "source": [
    "Let us now plot our cross sections and our centerline"
   ]
  },
  {
   "cell_type": "code",
   "execution_count": null,
   "metadata": {},
   "outputs": [],
   "source": [
    "plt.figure_3d()\n",
    "centerline.plot3d()\n",
    "for section in cross_sections:\n",
    "    section.plot3d(color='r')\n",
    "plt.equal_aspect_3d()\n",
    "plt.show()"
   ]
  },
  {
   "cell_type": "markdown",
   "execution_count": null,
   "metadata": {},
   "outputs": [],
   "source": [
    "We can now also plot the extracted portions of the coronary tree"
   ]
  },
  {
   "cell_type": "code",
   "execution_count": null,
   "metadata": {},
   "outputs": [],
   "source": [
    "plt.figure_3d()\n",
    "folder_angio.bifCenterline1.data.plot3d()\n",
    "folder_angio.bifCenterline2.data.plot3d()\n",
    "for section in folder_angio.CrossSectionEllipseSet1.data:\n",
    "    section.plot3d(color='r', linewidth=0.5)\n",
    "for section in folder_angio.CrossSectionEllipseSet2.data:\n",
    "    section.plot3d(color='g', linewidth=0.5)\n",
    "plt.equal_aspect_3d()\n",
    "plt.show()"
   ]
  },
  {
   "cell_type": "code",
   "execution_count": null,
   "metadata": {},
   "outputs": [],
   "source": [
    "plt.close('all')"
   ]
  },
  {
   "cell_type": "code",
   "execution_count": null,
   "metadata": {},
   "outputs": [],
   "source": []
  }
 ],
 "metadata": {
  "file_extension": ".py",
  "kernelspec": {
   "display_name": "Python 3.7.6 64-bit ('P3p7torch1p3': conda)",
   "language": "python",
   "name": "python37664bitp3p7torch1p3conda7e19d9a9ff6440c4be72ef74d5ec3552"
  },
  "language_info": {
   "codemirror_mode": {
    "name": "ipython",
    "version": 3
   },
   "file_extension": ".py",
   "mimetype": "text/x-python",
   "name": "python",
   "nbconvert_exporter": "python",
   "pygments_lexer": "ipython3",
   "version": "3.7.6-final"
  },
  "mimetype": "text/x-python",
  "name": "python",
  "npconvert_exporter": "python",
  "pygments_lexer": "ipython3",
  "version": 3
 },
 "nbformat": 4,
 "nbformat_minor": 4
}